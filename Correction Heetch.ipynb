{
 "cells": [
  {
   "cell_type": "markdown",
   "metadata": {},
   "source": [
    "## Load the data"
   ]
  },
  {
   "cell_type": "code",
   "execution_count": 1,
   "metadata": {},
   "outputs": [],
   "source": [
    "import pandas as pd\n",
    "import seaborn as sns\n",
    "\n",
    "heetch_df = pd.read_csv(\"data/heetch.csv\")"
   ]
  },
  {
   "cell_type": "markdown",
   "metadata": {},
   "source": [
    "## Try to run the analysis you ran on wednesday (sizing + eliminating the bias)"
   ]
  },
  {
   "cell_type": "code",
   "execution_count": 2,
   "metadata": {},
   "outputs": [
    {
     "data": {
      "text/html": [
       "<div>\n",
       "<style scoped>\n",
       "    .dataframe tbody tr th:only-of-type {\n",
       "        vertical-align: middle;\n",
       "    }\n",
       "\n",
       "    .dataframe tbody tr th {\n",
       "        vertical-align: top;\n",
       "    }\n",
       "\n",
       "    .dataframe thead th {\n",
       "        text-align: right;\n",
       "    }\n",
       "</style>\n",
       "<table border=\"1\" class=\"dataframe\">\n",
       "  <thead>\n",
       "    <tr style=\"text-align: right;\">\n",
       "      <th></th>\n",
       "      <th>Created At</th>\n",
       "      <th>Driver Id</th>\n",
       "      <th>Estimated Approach Duration</th>\n",
       "      <th>Estimated Price</th>\n",
       "      <th>Id</th>\n",
       "      <th>Origin Address</th>\n",
       "      <th>Origin Latitude</th>\n",
       "      <th>Origin Longitude</th>\n",
       "      <th>Payment Mode</th>\n",
       "      <th>State</th>\n",
       "      <th>User Id</th>\n",
       "      <th>pick_up_venue_type</th>\n",
       "    </tr>\n",
       "  </thead>\n",
       "  <tbody>\n",
       "    <tr>\n",
       "      <th>0</th>\n",
       "      <td>2019-10-20 18:55:00</td>\n",
       "      <td>1000007.0</td>\n",
       "      <td>180.0</td>\n",
       "      <td>11</td>\n",
       "      <td>0edc6f9d-08a6-4e08-96cb-028bb8face34</td>\n",
       "      <td>10 Rue Emile Reynaud - 75019 Paris, France</td>\n",
       "      <td>48.901567</td>\n",
       "      <td>2.387198</td>\n",
       "      <td>cash</td>\n",
       "      <td>terminated</td>\n",
       "      <td>456033</td>\n",
       "      <td>NaN</td>\n",
       "    </tr>\n",
       "    <tr>\n",
       "      <th>1</th>\n",
       "      <td>2019-10-23 1:22:59</td>\n",
       "      <td>1000007.0</td>\n",
       "      <td>240.0</td>\n",
       "      <td>9</td>\n",
       "      <td>2e3e0993-ca27-41dd-941f-3ac41bb11197</td>\n",
       "      <td>7 Avenue Arago, 94340 Joinville-le-Pont</td>\n",
       "      <td>48.825007</td>\n",
       "      <td>2.473905</td>\n",
       "      <td>cash</td>\n",
       "      <td>terminated</td>\n",
       "      <td>180992</td>\n",
       "      <td>NaN</td>\n",
       "    </tr>\n",
       "    <tr>\n",
       "      <th>2</th>\n",
       "      <td>2019-10-22 0:28:04</td>\n",
       "      <td>1000007.0</td>\n",
       "      <td>120.0</td>\n",
       "      <td>14</td>\n",
       "      <td>3e871a03-875c-4461-b256-e3d2d3dd8390</td>\n",
       "      <td>8 Rue de Berri - 75008 Paris</td>\n",
       "      <td>48.872184</td>\n",
       "      <td>2.304016</td>\n",
       "      <td>cash</td>\n",
       "      <td>terminated</td>\n",
       "      <td>430968</td>\n",
       "      <td>NaN</td>\n",
       "    </tr>\n",
       "    <tr>\n",
       "      <th>3</th>\n",
       "      <td>2019-10-23 0:26:15</td>\n",
       "      <td>1000007.0</td>\n",
       "      <td>360.0</td>\n",
       "      <td>6</td>\n",
       "      <td>4c4d8595-9160-4880-b8bd-b157a5ba2b43</td>\n",
       "      <td>38 Rue Saint-Dominique - 75007 Paris</td>\n",
       "      <td>48.860068</td>\n",
       "      <td>2.311160</td>\n",
       "      <td>cash</td>\n",
       "      <td>canceled_by_user</td>\n",
       "      <td>1070974</td>\n",
       "      <td>NaN</td>\n",
       "    </tr>\n",
       "    <tr>\n",
       "      <th>4</th>\n",
       "      <td>2019-10-22 0:13:19</td>\n",
       "      <td>1000007.0</td>\n",
       "      <td>240.0</td>\n",
       "      <td>10</td>\n",
       "      <td>6c903bfb-dcc9-4a37-8620-6aaf3a933fcc</td>\n",
       "      <td>29 Rue du Docteur Babinski - 93400 Saint-Ouen</td>\n",
       "      <td>48.901163</td>\n",
       "      <td>2.332574</td>\n",
       "      <td>cash</td>\n",
       "      <td>terminated</td>\n",
       "      <td>603407</td>\n",
       "      <td>NaN</td>\n",
       "    </tr>\n",
       "  </tbody>\n",
       "</table>\n",
       "</div>"
      ],
      "text/plain": [
       "            Created At  Driver Id  Estimated Approach Duration  \\\n",
       "0  2019-10-20 18:55:00  1000007.0                        180.0   \n",
       "1   2019-10-23 1:22:59  1000007.0                        240.0   \n",
       "2   2019-10-22 0:28:04  1000007.0                        120.0   \n",
       "3   2019-10-23 0:26:15  1000007.0                        360.0   \n",
       "4   2019-10-22 0:13:19  1000007.0                        240.0   \n",
       "\n",
       "   Estimated Price                                    Id  \\\n",
       "0               11  0edc6f9d-08a6-4e08-96cb-028bb8face34   \n",
       "1                9  2e3e0993-ca27-41dd-941f-3ac41bb11197   \n",
       "2               14  3e871a03-875c-4461-b256-e3d2d3dd8390   \n",
       "3                6  4c4d8595-9160-4880-b8bd-b157a5ba2b43   \n",
       "4               10  6c903bfb-dcc9-4a37-8620-6aaf3a933fcc   \n",
       "\n",
       "                                  Origin Address  Origin Latitude  \\\n",
       "0     10 Rue Emile Reynaud - 75019 Paris, France        48.901567   \n",
       "1        7 Avenue Arago, 94340 Joinville-le-Pont        48.825007   \n",
       "2                   8 Rue de Berri - 75008 Paris        48.872184   \n",
       "3           38 Rue Saint-Dominique - 75007 Paris        48.860068   \n",
       "4  29 Rue du Docteur Babinski - 93400 Saint-Ouen        48.901163   \n",
       "\n",
       "   Origin Longitude Payment Mode             State  User Id pick_up_venue_type  \n",
       "0          2.387198         cash        terminated   456033                NaN  \n",
       "1          2.473905         cash        terminated   180992                NaN  \n",
       "2          2.304016         cash        terminated   430968                NaN  \n",
       "3          2.311160         cash  canceled_by_user  1070974                NaN  \n",
       "4          2.332574         cash        terminated   603407                NaN  "
      ]
     },
     "execution_count": 2,
     "metadata": {},
     "output_type": "execute_result"
    }
   ],
   "source": [
    "heetch_df.head()"
   ]
  },
  {
   "cell_type": "code",
   "execution_count": 3,
   "metadata": {},
   "outputs": [
    {
     "data": {
      "text/plain": [
       "(101043, 12)"
      ]
     },
     "execution_count": 3,
     "metadata": {},
     "output_type": "execute_result"
    }
   ],
   "source": [
    "heetch_df.shape"
   ]
  },
  {
   "cell_type": "code",
   "execution_count": 4,
   "metadata": {},
   "outputs": [
    {
     "data": {
      "text/plain": [
       "Index(['Created At', 'Driver Id', 'Estimated Approach Duration',\n",
       "       'Estimated Price', 'Id', 'Origin Address', 'Origin Latitude',\n",
       "       'Origin Longitude', 'Payment Mode', 'State', 'User Id',\n",
       "       'pick_up_venue_type'],\n",
       "      dtype='object')"
      ]
     },
     "execution_count": 4,
     "metadata": {},
     "output_type": "execute_result"
    }
   ],
   "source": [
    "heetch_df.columns"
   ]
  },
  {
   "cell_type": "code",
   "execution_count": 5,
   "metadata": {},
   "outputs": [
    {
     "data": {
      "text/plain": [
       "array([nan, \"Gare d'Austerlitz\", 'Gare de Lyon', 'Gare du Nord',\n",
       "       \"Gare de L'Est\", 'Gare de Montparnasse', 'Roissy', 'Orly'],\n",
       "      dtype=object)"
      ]
     },
     "execution_count": 5,
     "metadata": {},
     "output_type": "execute_result"
    }
   ],
   "source": [
    "heetch_df.pick_up_venue_type.unique()"
   ]
  },
  {
   "cell_type": "markdown",
   "metadata": {},
   "source": [
    "**Create the new column : \"is_a_venue\"**"
   ]
  },
  {
   "cell_type": "code",
   "execution_count": 15,
   "metadata": {},
   "outputs": [
    {
     "data": {
      "text/html": [
       "<div>\n",
       "<style scoped>\n",
       "    .dataframe tbody tr th:only-of-type {\n",
       "        vertical-align: middle;\n",
       "    }\n",
       "\n",
       "    .dataframe tbody tr th {\n",
       "        vertical-align: top;\n",
       "    }\n",
       "\n",
       "    .dataframe thead th {\n",
       "        text-align: right;\n",
       "    }\n",
       "</style>\n",
       "<table border=\"1\" class=\"dataframe\">\n",
       "  <thead>\n",
       "    <tr style=\"text-align: right;\">\n",
       "      <th></th>\n",
       "      <th>Created At</th>\n",
       "      <th>Driver Id</th>\n",
       "      <th>Estimated Approach Duration</th>\n",
       "      <th>Estimated Price</th>\n",
       "      <th>Id</th>\n",
       "      <th>Origin Address</th>\n",
       "      <th>Origin Latitude</th>\n",
       "      <th>Origin Longitude</th>\n",
       "      <th>Payment Mode</th>\n",
       "      <th>State</th>\n",
       "      <th>User Id</th>\n",
       "      <th>pick_up_venue_type</th>\n",
       "      <th>is_a_venue</th>\n",
       "    </tr>\n",
       "  </thead>\n",
       "  <tbody>\n",
       "    <tr>\n",
       "      <th>0</th>\n",
       "      <td>2019-10-20 18:55:00</td>\n",
       "      <td>1000007.0</td>\n",
       "      <td>180.0</td>\n",
       "      <td>11</td>\n",
       "      <td>0edc6f9d-08a6-4e08-96cb-028bb8face34</td>\n",
       "      <td>10 Rue Emile Reynaud - 75019 Paris, France</td>\n",
       "      <td>48.901567</td>\n",
       "      <td>2.387198</td>\n",
       "      <td>cash</td>\n",
       "      <td>terminated</td>\n",
       "      <td>456033</td>\n",
       "      <td>NaN</td>\n",
       "      <td>no</td>\n",
       "    </tr>\n",
       "    <tr>\n",
       "      <th>1</th>\n",
       "      <td>2019-10-23 1:22:59</td>\n",
       "      <td>1000007.0</td>\n",
       "      <td>240.0</td>\n",
       "      <td>9</td>\n",
       "      <td>2e3e0993-ca27-41dd-941f-3ac41bb11197</td>\n",
       "      <td>7 Avenue Arago, 94340 Joinville-le-Pont</td>\n",
       "      <td>48.825007</td>\n",
       "      <td>2.473905</td>\n",
       "      <td>cash</td>\n",
       "      <td>terminated</td>\n",
       "      <td>180992</td>\n",
       "      <td>NaN</td>\n",
       "      <td>no</td>\n",
       "    </tr>\n",
       "    <tr>\n",
       "      <th>2</th>\n",
       "      <td>2019-10-22 0:28:04</td>\n",
       "      <td>1000007.0</td>\n",
       "      <td>120.0</td>\n",
       "      <td>14</td>\n",
       "      <td>3e871a03-875c-4461-b256-e3d2d3dd8390</td>\n",
       "      <td>8 Rue de Berri - 75008 Paris</td>\n",
       "      <td>48.872184</td>\n",
       "      <td>2.304016</td>\n",
       "      <td>cash</td>\n",
       "      <td>terminated</td>\n",
       "      <td>430968</td>\n",
       "      <td>NaN</td>\n",
       "      <td>no</td>\n",
       "    </tr>\n",
       "    <tr>\n",
       "      <th>3</th>\n",
       "      <td>2019-10-23 0:26:15</td>\n",
       "      <td>1000007.0</td>\n",
       "      <td>360.0</td>\n",
       "      <td>6</td>\n",
       "      <td>4c4d8595-9160-4880-b8bd-b157a5ba2b43</td>\n",
       "      <td>38 Rue Saint-Dominique - 75007 Paris</td>\n",
       "      <td>48.860068</td>\n",
       "      <td>2.311160</td>\n",
       "      <td>cash</td>\n",
       "      <td>canceled_by_user</td>\n",
       "      <td>1070974</td>\n",
       "      <td>NaN</td>\n",
       "      <td>no</td>\n",
       "    </tr>\n",
       "    <tr>\n",
       "      <th>4</th>\n",
       "      <td>2019-10-22 0:13:19</td>\n",
       "      <td>1000007.0</td>\n",
       "      <td>240.0</td>\n",
       "      <td>10</td>\n",
       "      <td>6c903bfb-dcc9-4a37-8620-6aaf3a933fcc</td>\n",
       "      <td>29 Rue du Docteur Babinski - 93400 Saint-Ouen</td>\n",
       "      <td>48.901163</td>\n",
       "      <td>2.332574</td>\n",
       "      <td>cash</td>\n",
       "      <td>terminated</td>\n",
       "      <td>603407</td>\n",
       "      <td>NaN</td>\n",
       "      <td>no</td>\n",
       "    </tr>\n",
       "  </tbody>\n",
       "</table>\n",
       "</div>"
      ],
      "text/plain": [
       "            Created At  Driver Id  Estimated Approach Duration  \\\n",
       "0  2019-10-20 18:55:00  1000007.0                        180.0   \n",
       "1   2019-10-23 1:22:59  1000007.0                        240.0   \n",
       "2   2019-10-22 0:28:04  1000007.0                        120.0   \n",
       "3   2019-10-23 0:26:15  1000007.0                        360.0   \n",
       "4   2019-10-22 0:13:19  1000007.0                        240.0   \n",
       "\n",
       "   Estimated Price                                    Id  \\\n",
       "0               11  0edc6f9d-08a6-4e08-96cb-028bb8face34   \n",
       "1                9  2e3e0993-ca27-41dd-941f-3ac41bb11197   \n",
       "2               14  3e871a03-875c-4461-b256-e3d2d3dd8390   \n",
       "3                6  4c4d8595-9160-4880-b8bd-b157a5ba2b43   \n",
       "4               10  6c903bfb-dcc9-4a37-8620-6aaf3a933fcc   \n",
       "\n",
       "                                  Origin Address  Origin Latitude  \\\n",
       "0     10 Rue Emile Reynaud - 75019 Paris, France        48.901567   \n",
       "1        7 Avenue Arago, 94340 Joinville-le-Pont        48.825007   \n",
       "2                   8 Rue de Berri - 75008 Paris        48.872184   \n",
       "3           38 Rue Saint-Dominique - 75007 Paris        48.860068   \n",
       "4  29 Rue du Docteur Babinski - 93400 Saint-Ouen        48.901163   \n",
       "\n",
       "   Origin Longitude Payment Mode             State  User Id  \\\n",
       "0          2.387198         cash        terminated   456033   \n",
       "1          2.473905         cash        terminated   180992   \n",
       "2          2.304016         cash        terminated   430968   \n",
       "3          2.311160         cash  canceled_by_user  1070974   \n",
       "4          2.332574         cash        terminated   603407   \n",
       "\n",
       "  pick_up_venue_type is_a_venue  \n",
       "0                NaN         no  \n",
       "1                NaN         no  \n",
       "2                NaN         no  \n",
       "3                NaN         no  \n",
       "4                NaN         no  "
      ]
     },
     "execution_count": 15,
     "metadata": {},
     "output_type": "execute_result"
    }
   ],
   "source": [
    "heetch_df.loc[heetch_df['pick_up_venue_type'].notnull(),'is_a_venue'] = 'yes'\n",
    "heetch_df.loc[heetch_df['pick_up_venue_type'].isnull(),'is_a_venue'] = 'no'"
   ]
  },
  {
   "cell_type": "code",
   "execution_count": 21,
   "metadata": {},
   "outputs": [
    {
     "data": {
      "text/plain": [
       "no     0.993419\n",
       "yes    0.006581\n",
       "Name: is_a_venue, dtype: float64"
      ]
     },
     "execution_count": 21,
     "metadata": {},
     "output_type": "execute_result"
    }
   ],
   "source": [
    "heetch_df[heetch_df.State == \"terminated\"].is_a_venue.value_counts(normalize=True)"
   ]
  },
  {
   "cell_type": "markdown",
   "metadata": {},
   "source": [
    "0,7% is a very small number compared to Uber's rough 7,5% of business."
   ]
  },
  {
   "cell_type": "markdown",
   "metadata": {},
   "source": [
    "**calculate average price of terminated rides from venues vs non venues**"
   ]
  },
  {
   "cell_type": "code",
   "execution_count": 37,
   "metadata": {},
   "outputs": [
    {
     "name": "stderr",
     "output_type": "stream",
     "text": [
      "/Users/ninoraymond/.pyenv/versions/3.7.7/envs/lewagon/lib/python3.7/site-packages/ipykernel_launcher.py:1: UserWarning: Boolean Series key will be reindexed to match DataFrame index.\n",
      "  \"\"\"Entry point for launching an IPython kernel.\n"
     ]
    },
    {
     "data": {
      "text/plain": [
       "17.01764705882353"
      ]
     },
     "execution_count": 37,
     "metadata": {},
     "output_type": "execute_result"
    }
   ],
   "source": [
    "heetch_df[heetch_df.is_a_venue == \"yes\"][heetch_df.State == \"terminated\"][\"Estimated Price\"].mean()"
   ]
  },
  {
   "cell_type": "code",
   "execution_count": 39,
   "metadata": {},
   "outputs": [
    {
     "name": "stderr",
     "output_type": "stream",
     "text": [
      "/Users/ninoraymond/.pyenv/versions/3.7.7/envs/lewagon/lib/python3.7/site-packages/ipykernel_launcher.py:1: UserWarning: Boolean Series key will be reindexed to match DataFrame index.\n",
      "  \"\"\"Entry point for launching an IPython kernel.\n"
     ]
    },
    {
     "data": {
      "text/plain": [
       "12.52386766596958"
      ]
     },
     "execution_count": 39,
     "metadata": {},
     "output_type": "execute_result"
    }
   ],
   "source": [
    "heetch_df[heetch_df.is_a_venue == \"no\"][heetch_df.State == \"terminated\"][\"Estimated Price\"].mean()"
   ]
  },
  {
   "cell_type": "code",
   "execution_count": 43,
   "metadata": {},
   "outputs": [
    {
     "data": {
      "text/plain": [
       "99.7609561752988"
      ]
     },
     "execution_count": 43,
     "metadata": {},
     "output_type": "execute_result"
    }
   ],
   "source": [
    "0.993*12.52 + 17*0.007\n",
    "12.52*100/12.55"
   ]
  },
  {
   "cell_type": "code",
   "execution_count": 8,
   "metadata": {},
   "outputs": [
    {
     "data": {
      "text/html": [
       "<div>\n",
       "<style scoped>\n",
       "    .dataframe tbody tr th:only-of-type {\n",
       "        vertical-align: middle;\n",
       "    }\n",
       "\n",
       "    .dataframe tbody tr th {\n",
       "        vertical-align: top;\n",
       "    }\n",
       "\n",
       "    .dataframe thead th {\n",
       "        text-align: right;\n",
       "    }\n",
       "</style>\n",
       "<table border=\"1\" class=\"dataframe\">\n",
       "  <thead>\n",
       "    <tr style=\"text-align: right;\">\n",
       "      <th></th>\n",
       "      <th>Created At</th>\n",
       "      <th>Driver Id</th>\n",
       "      <th>Estimated Approach Duration</th>\n",
       "      <th>Estimated Price</th>\n",
       "      <th>Id</th>\n",
       "      <th>Origin Address</th>\n",
       "      <th>Origin Latitude</th>\n",
       "      <th>Origin Longitude</th>\n",
       "      <th>Payment Mode</th>\n",
       "      <th>State</th>\n",
       "      <th>User Id</th>\n",
       "      <th>pick_up_venue_type</th>\n",
       "    </tr>\n",
       "  </thead>\n",
       "  <tbody>\n",
       "    <tr>\n",
       "      <th>326</th>\n",
       "      <td>2019-10-23 20:50:00</td>\n",
       "      <td>1000573.0</td>\n",
       "      <td>120.0</td>\n",
       "      <td>7</td>\n",
       "      <td>07043e13-25ed-4e3d-a211-ec2e6fe862bf</td>\n",
       "      <td>Cour de D√©part, 75013 Paris</td>\n",
       "      <td>48.841764</td>\n",
       "      <td>2.367046</td>\n",
       "      <td>card</td>\n",
       "      <td>terminated</td>\n",
       "      <td>169941</td>\n",
       "      <td>Gare d'Austerlitz</td>\n",
       "    </tr>\n",
       "    <tr>\n",
       "      <th>765</th>\n",
       "      <td>2019-10-22 22:43:29</td>\n",
       "      <td>1000908.0</td>\n",
       "      <td>120.0</td>\n",
       "      <td>4</td>\n",
       "      <td>554f19f9-6ff9-4d03-9c0d-b3183436622a</td>\n",
       "      <td>196 Rue de Bercy, 75012 Paris</td>\n",
       "      <td>48.844595</td>\n",
       "      <td>2.372195</td>\n",
       "      <td>card</td>\n",
       "      <td>terminated</td>\n",
       "      <td>235156</td>\n",
       "      <td>Gare de Lyon</td>\n",
       "    </tr>\n",
       "    <tr>\n",
       "      <th>837</th>\n",
       "      <td>2019-10-23 18:52:36</td>\n",
       "      <td>1001050.0</td>\n",
       "      <td>540.0</td>\n",
       "      <td>15</td>\n",
       "      <td>97cb9b29-18a2-4ede-bf87-9bb52f4238ee</td>\n",
       "      <td>81 Avenue Pierre Mend√®s France, 75013 Paris</td>\n",
       "      <td>48.840918</td>\n",
       "      <td>2.366812</td>\n",
       "      <td>cash</td>\n",
       "      <td>terminated</td>\n",
       "      <td>336737</td>\n",
       "      <td>Gare d'Austerlitz</td>\n",
       "    </tr>\n",
       "    <tr>\n",
       "      <th>1382</th>\n",
       "      <td>2019-10-22 19:52:54</td>\n",
       "      <td>1001666.0</td>\n",
       "      <td>120.0</td>\n",
       "      <td>25</td>\n",
       "      <td>ca75bef4-6bcc-40b8-8025-23a2e145ea5a</td>\n",
       "      <td>190 Rue de Bercy - 75012 Paris</td>\n",
       "      <td>48.844293</td>\n",
       "      <td>2.373166</td>\n",
       "      <td>cash</td>\n",
       "      <td>terminated</td>\n",
       "      <td>1076171</td>\n",
       "      <td>Gare de Lyon</td>\n",
       "    </tr>\n",
       "    <tr>\n",
       "      <th>2118</th>\n",
       "      <td>2019-10-21 20:56:04</td>\n",
       "      <td>1003024.0</td>\n",
       "      <td>120.0</td>\n",
       "      <td>18</td>\n",
       "      <td>65860423-d53b-4b59-981d-ed5c9aca5f44</td>\n",
       "      <td>4 Place Napol√©on III, 75010 Paris</td>\n",
       "      <td>48.880395</td>\n",
       "      <td>2.355344</td>\n",
       "      <td>cash</td>\n",
       "      <td>canceled_by_user</td>\n",
       "      <td>541575</td>\n",
       "      <td>Gare du Nord</td>\n",
       "    </tr>\n",
       "  </tbody>\n",
       "</table>\n",
       "</div>"
      ],
      "text/plain": [
       "               Created At  Driver Id  Estimated Approach Duration  \\\n",
       "326   2019-10-23 20:50:00  1000573.0                        120.0   \n",
       "765   2019-10-22 22:43:29  1000908.0                        120.0   \n",
       "837   2019-10-23 18:52:36  1001050.0                        540.0   \n",
       "1382  2019-10-22 19:52:54  1001666.0                        120.0   \n",
       "2118  2019-10-21 20:56:04  1003024.0                        120.0   \n",
       "\n",
       "      Estimated Price                                    Id  \\\n",
       "326                 7  07043e13-25ed-4e3d-a211-ec2e6fe862bf   \n",
       "765                 4  554f19f9-6ff9-4d03-9c0d-b3183436622a   \n",
       "837                15  97cb9b29-18a2-4ede-bf87-9bb52f4238ee   \n",
       "1382               25  ca75bef4-6bcc-40b8-8025-23a2e145ea5a   \n",
       "2118               18  65860423-d53b-4b59-981d-ed5c9aca5f44   \n",
       "\n",
       "                                    Origin Address  Origin Latitude  \\\n",
       "326                   Cour de D√©part, 75013 Paris        48.841764   \n",
       "765                  196 Rue de Bercy, 75012 Paris        48.844595   \n",
       "837   81 Avenue Pierre Mend√®s France, 75013 Paris        48.840918   \n",
       "1382                190 Rue de Bercy - 75012 Paris        48.844293   \n",
       "2118            4 Place Napol√©on III, 75010 Paris        48.880395   \n",
       "\n",
       "      Origin Longitude Payment Mode             State  User Id  \\\n",
       "326           2.367046         card        terminated   169941   \n",
       "765           2.372195         card        terminated   235156   \n",
       "837           2.366812         cash        terminated   336737   \n",
       "1382          2.373166         cash        terminated  1076171   \n",
       "2118          2.355344         cash  canceled_by_user   541575   \n",
       "\n",
       "     pick_up_venue_type  \n",
       "326   Gare d'Austerlitz  \n",
       "765        Gare de Lyon  \n",
       "837   Gare d'Austerlitz  \n",
       "1382       Gare de Lyon  \n",
       "2118       Gare du Nord  "
      ]
     },
     "execution_count": 8,
     "metadata": {},
     "output_type": "execute_result"
    }
   ],
   "source": [
    "heetch_venue_df = heetch_df[heetch_df.pick_up_venue_type.notnull()]\n",
    "heetch_venue_df.head()"
   ]
  },
  {
   "cell_type": "markdown",
   "metadata": {},
   "source": [
    "**Business opportunity size**"
   ]
  },
  {
   "cell_type": "code",
   "execution_count": null,
   "metadata": {},
   "outputs": [],
   "source": [
    "heetch_df[heetch_df.State = \"terminated\"]"
   ]
  },
  {
   "cell_type": "code",
   "execution_count": 12,
   "metadata": {},
   "outputs": [
    {
     "data": {
      "text/plain": [
       "terminated            0.364807\n",
       "canceled_by_user      0.262518\n",
       "booking_failed        0.226037\n",
       "canceled_by_driver    0.146638\n",
       "Name: State, dtype: float64"
      ]
     },
     "execution_count": 12,
     "metadata": {},
     "output_type": "execute_result"
    }
   ],
   "source": [
    "heetch_venue_df.State.value_counts(normalize=True)"
   ]
  },
  {
   "cell_type": "code",
   "execution_count": 13,
   "metadata": {},
   "outputs": [
    {
     "data": {
      "text/plain": [
       "terminated              0.766970\n",
       "canceled_by_user        0.129658\n",
       "canceled_by_driver      0.100145\n",
       "booking_failed          0.003127\n",
       "canceled_by_operator    0.000099\n",
       "Name: State, dtype: float64"
      ]
     },
     "execution_count": 13,
     "metadata": {},
     "output_type": "execute_result"
    }
   ],
   "source": [
    "heetch_df.State.value_counts(normalize=True)"
   ]
  },
  {
   "cell_type": "markdown",
   "metadata": {},
   "source": [
    "**calculating the missed opportunity**"
   ]
  },
  {
   "cell_type": "code",
   "execution_count": null,
   "metadata": {},
   "outputs": [],
   "source": []
  },
  {
   "cell_type": "markdown",
   "metadata": {},
   "source": [
    "## Try to picture on a graph where were the rides booked in both Orly and Roissy ? Does it give you a product insight ? "
   ]
  },
  {
   "cell_type": "code",
   "execution_count": null,
   "metadata": {},
   "outputs": [],
   "source": []
  }
 ],
 "metadata": {
  "kernelspec": {
   "display_name": "Python 3",
   "language": "python",
   "name": "python3"
  },
  "language_info": {
   "codemirror_mode": {
    "name": "ipython",
    "version": 3
   },
   "file_extension": ".py",
   "mimetype": "text/x-python",
   "name": "python",
   "nbconvert_exporter": "python",
   "pygments_lexer": "ipython3",
   "version": "3.7.7"
  }
 },
 "nbformat": 4,
 "nbformat_minor": 4
}
